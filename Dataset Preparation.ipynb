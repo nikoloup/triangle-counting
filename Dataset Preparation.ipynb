{
 "cells": [
  {
   "cell_type": "code",
   "execution_count": 39,
   "metadata": {
    "collapsed": true
   },
   "outputs": [],
   "source": [
    "#Imports\n",
    "import random\n",
    "import math\n",
    "#Script parameters\n",
    "probability_of_deletion = 0.2 #Dictates the probability a specific edge will be deleted\n",
    "dataset_in_path = r'C:\\amazon.txt'\n",
    "#dataset_out_path = 'C:\\\\amazon_wdels.txt'\n",
    "dataset_out_path = r'C:\\Users\\Diomedea Exulans\\Documents\\amazon_wdels.txt'"
   ]
  },
  {
   "cell_type": "code",
   "execution_count": 40,
   "metadata": {
    "collapsed": false,
    "scrolled": true
   },
   "outputs": [],
   "source": [
    "#Load dataset\n",
    "dataset = open(dataset_in_path, 'r')\n",
    "edges = []\n",
    "for line in dataset:\n",
    "    edges.append('1 '+line)\n",
    "dataset.close()"
   ]
  },
  {
   "cell_type": "code",
   "execution_count": 41,
   "metadata": {
    "collapsed": false,
    "scrolled": true
   },
   "outputs": [],
   "source": [
    "#Shuffle edges\n",
    "random.shuffle(edges)"
   ]
  },
  {
   "cell_type": "code",
   "execution_count": 42,
   "metadata": {
    "collapsed": false,
    "scrolled": true
   },
   "outputs": [],
   "source": [
    "#Create deletion edges\n",
    "for i in range(0,len(edges)):\n",
    "    if(edges[i][0]=='0'):\n",
    "        continue\n",
    "    die = random.random()\n",
    "    if(die<probability_of_deletion):\n",
    "        edge = edges[i]\n",
    "        edge = '0' + edge[1:]\n",
    "        pos = random.randint(i+1,len(edges)+1)\n",
    "        edges.insert(pos, edge)"
   ]
  },
  {
   "cell_type": "code",
   "execution_count": 43,
   "metadata": {
    "collapsed": false
   },
   "outputs": [],
   "source": [
    "#Prepare to write output\n",
    "dataset_out = open(dataset_out_path,'w')\n",
    "for edge in edges:\n",
    "    dataset_out.write(edge)\n",
    "dataset_out.close()"
   ]
  },
  {
   "cell_type": "code",
   "execution_count": null,
   "metadata": {
    "collapsed": true
   },
   "outputs": [],
   "source": []
  }
 ],
 "metadata": {
  "anaconda-cloud": {},
  "kernelspec": {
   "display_name": "Python [default]",
   "language": "python",
   "name": "python3"
  },
  "language_info": {
   "codemirror_mode": {
    "name": "ipython",
    "version": 3
   },
   "file_extension": ".py",
   "mimetype": "text/x-python",
   "name": "python",
   "nbconvert_exporter": "python",
   "pygments_lexer": "ipython3",
   "version": "3.5.2"
  }
 },
 "nbformat": 4,
 "nbformat_minor": 1
}
