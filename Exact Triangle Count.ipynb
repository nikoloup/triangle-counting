{
 "cells": [
  {
   "cell_type": "code",
   "execution_count": 4,
   "metadata": {
    "collapsed": true
   },
   "outputs": [],
   "source": [
    "#Imports\n",
    "import networkx as nx\n",
    "import math"
   ]
  },
  {
   "cell_type": "code",
   "execution_count": 5,
   "metadata": {
    "collapsed": false
   },
   "outputs": [],
   "source": [
    "#Creating the graph\n",
    "G=nx.Graph()\n",
    "\n",
    "#Read the graph and count triangles (every 1000 edges)\n",
    "edges = open('C:\\\\facebook_wdels.txt','r')\n",
    "counter = 0\n",
    "results = []\n",
    "for edge in edges:\n",
    "    components = edge.split(' ')\n",
    "    v1 = long(components[1])\n",
    "    v2 = long(components[2])\n",
    "    tuple = (v1,v2)\n",
    "    if components[0] == '0':\n",
    "        G.remove_edge(*tuple)\n",
    "    else:\n",
    "        G.add_edge(*tuple)\n",
    "    counter += 1\n",
    "    if(counter%1000==0):\n",
    "        #print(sum(list(nx.triangles(G).values())))\n",
    "        results.append(sum(nx.triangles(G).values()))\n",
    "edges.close()"
   ]
  },
  {
   "cell_type": "code",
   "execution_count": 6,
   "metadata": {
    "collapsed": false
   },
   "outputs": [
    {
     "name": "stdout",
     "output_type": "stream",
     "text": [
      "[3, 20, 67, 154, 301, 487, 789, 1184, 1661, 2209, 2945, 3780, 4744, 5826, 7113, 8573, 10241, 12127, 14192, 16481, 18978, 21848, 24699, 27853, 31109, 34844, 38533, 42488, 46840, 51484, 56040, 60959, 66364, 71685, 77337, 83541, 89780, 96192, 103351, 109975, 117111, 124435, 132886, 142039, 150989, 160115, 170087, 180026, 190223, 200019, 209886, 220543, 231077, 241617, 252382, 264110, 275177, 287526, 300066, 312393, 326560, 338090, 350028, 362442, 375022, 388442, 402714, 414724, 428471, 442882, 455768, 467785, 482101, 494640, 509420, 522171, 537447, 552393, 566920, 581937, 596454, 610199, 624788, 637089, 651148, 663539, 675422, 688351, 700893, 715796, 729547, 743181, 755844, 770179, 782300, 797060, 810806, 827663, 841006, 855845, 871946, 887606, 904175]\n"
     ]
    }
   ],
   "source": [
    "#Normalize results (each triangle is counted thrice)\n",
    "for i in range(0,len(results)):\n",
    "    results[i] = math.floor(results[i]/3)\n",
    "print(results)"
   ]
  },
  {
   "cell_type": "code",
   "execution_count": null,
   "metadata": {
    "collapsed": true
   },
   "outputs": [],
   "source": []
  }
 ],
 "metadata": {
  "anaconda-cloud": {},
  "kernelspec": {
   "display_name": "Python [default]",
   "language": "python",
   "name": "python3"
  },
  "language_info": {
   "codemirror_mode": {
    "name": "ipython",
    "version": 3
   },
   "file_extension": ".py",
   "mimetype": "text/x-python",
   "name": "python",
   "nbconvert_exporter": "python",
   "pygments_lexer": "ipython3",
   "version": "3.5.2"
  }
 },
 "nbformat": 4,
 "nbformat_minor": 1
}
