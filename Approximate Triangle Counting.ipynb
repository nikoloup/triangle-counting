{
 "cells": [
  {
   "cell_type": "code",
   "execution_count": 78,
   "metadata": {
    "collapsed": true
   },
   "outputs": [],
   "source": [
    "#Preliminaries:\n",
    "#\n",
    "#Edges are defined as 2-tuples (x,y) where x,y are the nodes involved\n",
    "#Wedges are defined as 3-tuples (x,y,z) where x,y,z are the nodes involved"
   ]
  },
  {
   "cell_type": "code",
   "execution_count": 153,
   "metadata": {
    "collapsed": true
   },
   "outputs": [],
   "source": [
    "#Imports\n",
    "import networkx as nx\n",
    "import math\n",
    "import random\n",
    "import sys"
   ]
  },
  {
   "cell_type": "code",
   "execution_count": 154,
   "metadata": {
    "collapsed": false
   },
   "outputs": [],
   "source": [
    "#Check if an edge completes a triangle\n",
    "def check_wedge_closes(wedge,edge):\n",
    "    return ((edge[0] == wedge[2] and edge[1] == wedge[0]) or (edge[1] == wedge[2] and edge[0] == wedge[0]))"
   ]
  },
  {
   "cell_type": "code",
   "execution_count": 155,
   "metadata": {
    "collapsed": false
   },
   "outputs": [],
   "source": [
    "#Update total number of wedges\n",
    "def update_tot_wedges(edge_reservoir,wedge_reservoir,replaced_edges,input_edge,current_total_wedges):\n",
    "    #sys.stdout.write(\" \".join(str(x) for x in replaced_edges))\n",
    "    #First we check how many of the replaced edges have duplicates in the edge reservoir\n",
    "    for i in range(0,len(edge_reservoir)):\n",
    "        index = -1\n",
    "        for j in range(0,len(replaced_edges)):\n",
    "            if (edge_reservoir[i][0] == replaced_edges[j][0] and edge_reservoir[i][1] == replaced_edges[j][1]):\n",
    "                index = j\n",
    "        if index != -1:\n",
    "            del replaced_edges[index]\n",
    "    #sys.stdout.write(\"#\")\n",
    "    #sys.stdout.write(\" \".join(str(x) for x in replaced_edges))\n",
    "    #sys.stdout.write(\"#\")\n",
    "    #The remaining edges did not have any duplicates. We check in how many wedges they participate\n",
    "    invalids = 0\n",
    "    checked_wedges = []\n",
    "    if len(replaced_edges) > 0:\n",
    "        for wedge in wedge_reservoir:\n",
    "            if (wedge in checked_wedges): continue #If we counted wedge already move on\n",
    "            for redge in replaced_edges:\n",
    "                #We need to check all permutations\n",
    "                if (wedge[0] == redge[0] and wedge[1] == redge[1]) or (wedge[0] == redge[1] and wedge[1] == redge[0]) or (wedge[1] == redge[0] and wedge[2] == redge[1]) or (wedge[1] == redge[1] and wedge[2] == redge[0]):\n",
    "                    #This replaced edge participated in a wedge. This wedge is no longer valid\n",
    "                    invalids += 1\n",
    "                    checked_wedges.append(wedge)\n",
    "    \n",
    "    #print(invalids)\n",
    "    \n",
    "    #Finally, we count and store the new number of wedges that can be created from the new edge\n",
    "    #We keep a list of \"used edges\" for the duplicates so no duplicate wedges are created\n",
    "    new_wedges = []\n",
    "    used_edges = []\n",
    "    for edge in edge_reservoir:\n",
    "        check = False\n",
    "        for used_edge in used_edges:\n",
    "            if (used_edge[0] == edge[0] and used_edge[1] == edge[1]):\n",
    "                check = True\n",
    "                break\n",
    "        if(check):\n",
    "            continue\n",
    "        used = False\n",
    "        if (edge[0] == input_edge[1] and edge[1] != input_edge[0]):\n",
    "            new_wedges.append((input_edge[0],input_edge[1],edge[1]))\n",
    "            used = True\n",
    "        elif (edge[1] == input_edge[1] and edge[0] != input_edge[0]):\n",
    "            new_wedges.append((input_edge[0],input_edge[1],edge[0]))\n",
    "            used = True\n",
    "        elif (edge[0] == input_edge[0] and edge[1] != input_edge[1]):\n",
    "            new_wedges.append((input_edge[1],input_edge[0],edge[1]))\n",
    "            used = True\n",
    "        elif (edge[1] == input_edge[0] and edge[0] != input_edge[1]):\n",
    "            new_wedges.append((input_edge[1],input_edge[0],edge[0]))\n",
    "            used = True\n",
    "        if used:\n",
    "            used_edges.append(edge)\n",
    "            \n",
    "    #The overall change in the total wedges is:\n",
    "    new_total_wedges = current_total_wedges - invalids + len(new_wedges)\n",
    "    \n",
    "    #We return this number as well as the list of new wedges\n",
    "    return (new_total_wedges, new_wedges)\n",
    "        \n",
    "        "
   ]
  },
  {
   "cell_type": "code",
   "execution_count": 156,
   "metadata": {
    "collapsed": true
   },
   "outputs": [],
   "source": [
    "#Algorithm parameters\n",
    "edge_reservoir_size = 1000\n",
    "wedge_reservoir_size = 1000"
   ]
  },
  {
   "cell_type": "code",
   "execution_count": 157,
   "metadata": {
    "collapsed": false
   },
   "outputs": [
    {
     "name": "stdout",
     "output_type": "stream",
     "text": [
      "0\n",
      "0\n",
      "0\n",
      "0\n",
      "0\n",
      "0\n",
      "0\n",
      "0\n",
      "0\n",
      "0\n",
      "0\n",
      "0\n",
      "0\n",
      "0\n",
      "0\n",
      "0\n",
      "0\n",
      "0\n",
      "0\n",
      "0\n",
      "0\n",
      "4\n",
      "0\n",
      "0\n",
      "0\n",
      "0\n",
      "0\n",
      "0\n",
      "0\n",
      "0\n",
      "0\n",
      "0\n",
      "0\n",
      "0\n",
      "0\n",
      "0\n",
      "0\n",
      "0\n",
      "0\n",
      "0\n",
      "0\n",
      "0\n",
      "0\n",
      "0\n",
      "0\n",
      "0\n",
      "0\n",
      "0\n",
      "0\n",
      "0\n",
      "0\n",
      "0\n",
      "0\n",
      "0\n"
     ]
    },
    {
     "ename": "KeyboardInterrupt",
     "evalue": "",
     "output_type": "error",
     "traceback": [
      "\u001b[0;31m---------------------------------------------------------------------------\u001b[0m",
      "\u001b[0;31mKeyboardInterrupt\u001b[0m                         Traceback (most recent call last)",
      "\u001b[0;32m<ipython-input-157-89e79d889071>\u001b[0m in \u001b[0;36m<module>\u001b[0;34m()\u001b[0m\n\u001b[1;32m     23\u001b[0m     \u001b[1;31m#Check if particular edge closes a wedge\u001b[0m\u001b[1;33m\u001b[0m\u001b[1;33m\u001b[0m\u001b[0m\n\u001b[1;32m     24\u001b[0m     \u001b[1;32mfor\u001b[0m \u001b[0mi\u001b[0m \u001b[1;32min\u001b[0m \u001b[0mrange\u001b[0m\u001b[1;33m(\u001b[0m\u001b[1;36m0\u001b[0m\u001b[1;33m,\u001b[0m\u001b[0mlen\u001b[0m\u001b[1;33m(\u001b[0m\u001b[0mwedge_reservoir\u001b[0m\u001b[1;33m)\u001b[0m\u001b[1;33m)\u001b[0m\u001b[1;33m:\u001b[0m\u001b[1;33m\u001b[0m\u001b[0m\n\u001b[0;32m---> 25\u001b[0;31m         \u001b[1;32mif\u001b[0m\u001b[1;33m(\u001b[0m\u001b[0mcheck_wedge_closes\u001b[0m\u001b[1;33m(\u001b[0m\u001b[0mwedge_reservoir\u001b[0m\u001b[1;33m[\u001b[0m\u001b[0mi\u001b[0m\u001b[1;33m]\u001b[0m\u001b[1;33m,\u001b[0m\u001b[0minput_edge\u001b[0m\u001b[1;33m)\u001b[0m\u001b[1;33m)\u001b[0m\u001b[1;33m:\u001b[0m\u001b[1;33m\u001b[0m\u001b[0m\n\u001b[0m\u001b[1;32m     26\u001b[0m             \u001b[0mis_closed\u001b[0m\u001b[1;33m[\u001b[0m\u001b[0mi\u001b[0m\u001b[1;33m]\u001b[0m \u001b[1;33m=\u001b[0m \u001b[1;32mTrue\u001b[0m\u001b[1;33m\u001b[0m\u001b[0m\n\u001b[1;32m     27\u001b[0m     \u001b[1;31m#Replace edges (reservoir sampling)\u001b[0m\u001b[1;33m\u001b[0m\u001b[1;33m\u001b[0m\u001b[0m\n",
      "\u001b[0;32m<ipython-input-154-5c24153585c5>\u001b[0m in \u001b[0;36mcheck_wedge_closes\u001b[0;34m(wedge, edge)\u001b[0m\n\u001b[1;32m      1\u001b[0m \u001b[1;31m#Check if an edge completes a triangle\u001b[0m\u001b[1;33m\u001b[0m\u001b[1;33m\u001b[0m\u001b[0m\n\u001b[1;32m      2\u001b[0m \u001b[1;32mdef\u001b[0m \u001b[0mcheck_wedge_closes\u001b[0m\u001b[1;33m(\u001b[0m\u001b[0mwedge\u001b[0m\u001b[1;33m,\u001b[0m\u001b[0medge\u001b[0m\u001b[1;33m)\u001b[0m\u001b[1;33m:\u001b[0m\u001b[1;33m\u001b[0m\u001b[0m\n\u001b[0;32m----> 3\u001b[0;31m     \u001b[1;32mreturn\u001b[0m \u001b[1;33m(\u001b[0m\u001b[1;33m(\u001b[0m\u001b[0medge\u001b[0m\u001b[1;33m[\u001b[0m\u001b[1;36m0\u001b[0m\u001b[1;33m]\u001b[0m \u001b[1;33m==\u001b[0m \u001b[0mwedge\u001b[0m\u001b[1;33m[\u001b[0m\u001b[1;36m2\u001b[0m\u001b[1;33m]\u001b[0m \u001b[1;32mand\u001b[0m \u001b[0medge\u001b[0m\u001b[1;33m[\u001b[0m\u001b[1;36m1\u001b[0m\u001b[1;33m]\u001b[0m \u001b[1;33m==\u001b[0m \u001b[0mwedge\u001b[0m\u001b[1;33m[\u001b[0m\u001b[1;36m0\u001b[0m\u001b[1;33m]\u001b[0m\u001b[1;33m)\u001b[0m \u001b[1;32mor\u001b[0m \u001b[1;33m(\u001b[0m\u001b[0medge\u001b[0m\u001b[1;33m[\u001b[0m\u001b[1;36m1\u001b[0m\u001b[1;33m]\u001b[0m \u001b[1;33m==\u001b[0m \u001b[0mwedge\u001b[0m\u001b[1;33m[\u001b[0m\u001b[1;36m2\u001b[0m\u001b[1;33m]\u001b[0m \u001b[1;32mand\u001b[0m \u001b[0medge\u001b[0m\u001b[1;33m[\u001b[0m\u001b[1;36m0\u001b[0m\u001b[1;33m]\u001b[0m \u001b[1;33m==\u001b[0m \u001b[0mwedge\u001b[0m\u001b[1;33m[\u001b[0m\u001b[1;36m0\u001b[0m\u001b[1;33m]\u001b[0m\u001b[1;33m)\u001b[0m\u001b[1;33m)\u001b[0m\u001b[1;33m\u001b[0m\u001b[0m\n\u001b[0m",
      "\u001b[0;31mKeyboardInterrupt\u001b[0m: "
     ]
    }
   ],
   "source": [
    "#Initialization\n",
    "edge_reservoir = [(-1,-1)] * edge_reservoir_size\n",
    "wedge_reservoir = [(-1,-1,-1)] * wedge_reservoir_size\n",
    "is_an_antiedge = [0] * edge_reservoir_size #Binary list marking anti-edges\n",
    "is_closed = [False] * wedge_reservoir_size #Binary list marking closed wedges\n",
    "#edges = open('C:\\\\amazon_wdels.txt','r')\n",
    "edges = open('C:\\\\facebook_wdels.txt','r')\n",
    "#edges = open('C:\\\\wtest.txt','r')\n",
    "counter = 0\n",
    "total_number_of_wedges = 0 #This is different than the length of the wedge reservoir!\n",
    "results = []\n",
    "\n",
    "#For every edge:\n",
    "for input_edge_raw in edges:\n",
    "    if(components[0] == '0'): continue #Skip deletions for now\n",
    "    counter += 1 #Increase edge counter\n",
    "    replaced_edges = [] #A list containing replaced edges\n",
    "    components = input_edge_raw.split(' ')\n",
    "    v1 = int(components[1])\n",
    "    v2 = int(components[2])\n",
    "    input_edge = (v1,v2)\n",
    "    #Check if particular edge closes a wedge\n",
    "    for i in range(0,len(wedge_reservoir)):\n",
    "        if(check_wedge_closes(wedge_reservoir[i],input_edge)):\n",
    "            is_closed[i] = True\n",
    "    #Replace edges (reservoir sampling)\n",
    "    for i in range(0,len(edge_reservoir)):\n",
    "        die = random.random()\n",
    "        if die < (1.0/counter):\n",
    "            replaced_edges.append(edge_reservoir[i])\n",
    "            edge_reservoir[i] = input_edge\n",
    "            \n",
    "    #Don't do stuff until reservoir is initialized\n",
    "    if(counter==1): continue\n",
    "    \n",
    "    #if(counter==2):\n",
    "    #print(replaced_edges)\n",
    "    #break\n",
    "    \n",
    "    #If an update happened\n",
    "    new_wedges = []\n",
    "    tot_wedges = 0 #For initialization\n",
    "    if len(replaced_edges) > 0:\n",
    "        #Calculate new total number of wedges\n",
    "        tmp = update_tot_wedges(edge_reservoir,wedge_reservoir,replaced_edges,input_edge,total_number_of_wedges)\n",
    "        tot_wedges = tmp[0]\n",
    "        new_wedges = tmp[1]\n",
    "        #print(tmp)\n",
    "        \n",
    "        #Replace wedges in the wedge reservoir\n",
    "        if(len(new_wedges)>0 and tot_wedges>0):\n",
    "            for i in range(0,len(wedge_reservoir)):\n",
    "                die = random.random()\n",
    "                if die < (len(new_wedges)/float(tot_wedges)):\n",
    "                    #Pick a uniform new wedge\n",
    "                    random_wedge_idx = random.randint(0,len(new_wedges)-1)\n",
    "                    wedge_reservoir[i] = new_wedges[random_wedge_idx]\n",
    "                    is_closed[i] = False\n",
    "            \n",
    "    #Finally we can now approximate the number of triangles in the graph\n",
    "    #This will change with the anti-edges\n",
    "    closed = 0\n",
    "    for wedge in is_closed:\n",
    "        if wedge == True:\n",
    "            closed += 1\n",
    "    \n",
    "    total_number_of_wedges = tot_wedges\n",
    "    if(counter%1000 == 0):\n",
    "        fraction_p = closed/len(is_closed)\n",
    "        kt = 3*fraction_p\n",
    "        triangles = ((fraction_p*(math.pow(counter,2)))/(edge_reservoir_size*(edge_reservoir_size-1)))*total_number_of_wedges\n",
    "        #print(triangles)\n",
    "        print(total_number_of_wedges)\n",
    "    "
   ]
  },
  {
   "cell_type": "code",
   "execution_count": 137,
   "metadata": {
    "collapsed": false
   },
   "outputs": [
    {
     "name": "stdout",
     "output_type": "stream",
     "text": [
      "[False, False, False, False, False, False, False, False, False, False, False, False, False, False, False, False, False, False, False, False, False, False, False, False, False, False, False, False, False, False, False, False, False, False, False, False, False, False, False, False, False, False, False, False, False, False, False, False, False, False, False, False, False, False, False, False, False, False, False, False, False, False, False, False, False, False, False, False, False, False, False, False, False, False, False, False, False, False, False, False, False, False, False, False, False, False, False, False, False, False, False, False, False, False, False, False, False, False, False, False]\n",
      "[(393830, 507828), (110323, 297774), (267443, 281305), (112938, 186548), (81997, 372871), (19621, 314051), (144703, 404383), (54826, 540068), (50495, 420147), (156441, 386722), (371043, 477015), (32148, 536259), (116840, 338053), (129702, 164162), (1380, 98710), (110038, 499315), (349398, 514782), (108961, 108990), (266682, 311506), (440525, 468511), (145175, 181317), (168720, 445716), (98233, 455181), (105922, 273151), (225970, 342718), (299829, 442509), (415122, 506940), (317324, 429290), (276790, 315212), (193618, 259326), (341121, 531502), (148852, 484485), (187179, 236982), (365427, 502784), (155748, 282441), (457545, 532414), (12140, 129416), (54131, 73209), (92920, 123533), (31572, 515216), (291768, 381803), (54598, 154894), (61093, 108113), (43363, 173153), (332748, 533319), (277088, 335430), (80347, 80357), (288629, 350049), (79471, 96320), (97191, 470195), (103112, 462152), (406895, 524109), (247978, 473443), (294234, 536874), (434500, 494543), (117929, 370599), (148587, 183368), (26523, 110392), (245584, 397390), (61792, 114054), (384399, 454340), (55960, 78748), (116248, 431408), (408914, 503590), (383470, 477061), (365018, 514612), (126767, 169944), (65896, 457788), (85930, 356523), (411194, 461332), (297165, 338361), (223620, 259545), (63878, 136665), (132935, 168964), (45782, 466304), (546935, 547879), (172353, 472117), (408687, 471101), (57964, 267745), (282641, 540792), (218588, 531240), (187045, 490785), (30979, 370226), (100416, 318460), (228032, 478163), (99594, 538099), (361504, 469345), (49591, 117805), (406114, 459915), (313731, 376454), (58931, 433655), (131326, 501339), (119526, 462096), (350136, 527905), (40797, 514326), (36531, 464050), (367136, 447568), (344787, 531766), (221126, 240582), (32036, 428962)]\n",
      "[(282641, 540792, 282641), (282641, 540792, 282641), (282641, 540792, 282641), (282641, 540792, 282641), (282641, 540792, 282641), (282641, 540792, 282641), (282641, 540792, 282641), (282641, 540792, 282641), (282641, 540792, 282641), (282641, 540792, 282641), (282641, 540792, 282641), (282641, 540792, 282641), (282641, 540792, 282641), (282641, 540792, 282641), (282641, 540792, 282641), (282641, 540792, 282641), (282641, 540792, 282641), (282641, 540792, 282641), (282641, 540792, 282641), (282641, 540792, 282641), (282641, 540792, 282641), (282641, 540792, 282641), (282641, 540792, 282641), (282641, 540792, 282641), (282641, 540792, 282641), (282641, 540792, 282641), (282641, 540792, 282641), (282641, 540792, 282641), (282641, 540792, 282641), (282641, 540792, 282641), (282641, 540792, 282641), (282641, 540792, 282641), (282641, 540792, 282641), (282641, 540792, 282641), (282641, 540792, 282641), (282641, 540792, 282641), (282641, 540792, 282641), (282641, 540792, 282641), (282641, 540792, 282641), (282641, 540792, 282641), (282641, 540792, 282641), (282641, 540792, 282641), (282641, 540792, 282641), (282641, 540792, 282641), (282641, 540792, 282641), (282641, 540792, 282641), (282641, 540792, 282641), (282641, 540792, 282641), (282641, 540792, 282641), (282641, 540792, 282641), (282641, 540792, 282641), (282641, 540792, 282641), (282641, 540792, 282641), (282641, 540792, 282641), (282641, 540792, 282641), (282641, 540792, 282641), (282641, 540792, 282641), (282641, 540792, 282641), (282641, 540792, 282641), (282641, 540792, 282641), (282641, 540792, 282641), (282641, 540792, 282641), (282641, 540792, 282641), (282641, 540792, 282641), (282641, 540792, 282641), (282641, 540792, 282641), (282641, 540792, 282641), (282641, 540792, 282641), (282641, 540792, 282641), (282641, 540792, 282641), (282641, 540792, 282641), (282641, 540792, 282641), (282641, 540792, 282641), (282641, 540792, 282641), (282641, 540792, 282641), (282641, 540792, 282641), (282641, 540792, 282641), (282641, 540792, 282641), (282641, 540792, 282641), (282641, 540792, 282641), (282641, 540792, 282641), (282641, 540792, 282641), (282641, 540792, 282641), (282641, 540792, 282641), (282641, 540792, 282641), (282641, 540792, 282641), (282641, 540792, 282641), (282641, 540792, 282641), (282641, 540792, 282641), (282641, 540792, 282641), (282641, 540792, 282641), (282641, 540792, 282641), (282641, 540792, 282641), (282641, 540792, 282641), (282641, 540792, 282641), (282641, 540792, 282641), (282641, 540792, 282641), (282641, 540792, 282641), (282641, 540792, 282641), (282641, 540792, 282641)]\n"
     ]
    }
   ],
   "source": [
    "print(is_closed)\n",
    "print(edge_reservoir)\n",
    "print(wedge_reservoir)"
   ]
  },
  {
   "cell_type": "code",
   "execution_count": 65,
   "metadata": {
    "collapsed": false
   },
   "outputs": [
    {
     "data": {
      "text/plain": [
       "False"
      ]
     },
     "execution_count": 65,
     "metadata": {},
     "output_type": "execute_result"
    }
   ],
   "source": [
    "check_wedge_closes((1,2,3),(1,1))"
   ]
  },
  {
   "cell_type": "code",
   "execution_count": 123,
   "metadata": {
    "collapsed": false
   },
   "outputs": [
    {
     "name": "stdout",
     "output_type": "stream",
     "text": [
      "True\n"
     ]
    }
   ],
   "source": [
    "a = [(1,2,3),(4,5,6)]\n",
    "print((1,2,3) in a)"
   ]
  },
  {
   "cell_type": "code",
   "execution_count": null,
   "metadata": {
    "collapsed": true
   },
   "outputs": [],
   "source": []
  }
 ],
 "metadata": {
  "anaconda-cloud": {},
  "kernelspec": {
   "display_name": "Python [default]",
   "language": "python",
   "name": "python3"
  },
  "language_info": {
   "codemirror_mode": {
    "name": "ipython",
    "version": 3
   },
   "file_extension": ".py",
   "mimetype": "text/x-python",
   "name": "python",
   "nbconvert_exporter": "python",
   "pygments_lexer": "ipython3",
   "version": "3.5.2"
  }
 },
 "nbformat": 4,
 "nbformat_minor": 1
}
